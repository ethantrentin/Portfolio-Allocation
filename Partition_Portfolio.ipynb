{
 "cells": [
  {
   "cell_type": "markdown",
   "metadata": {},
   "source": [
    "## Partition Function in Portfolio Construction "
   ]
  },
  {
   "cell_type": "code",
   "execution_count": 2,
   "metadata": {},
   "outputs": [
    {
     "name": "stdout",
     "output_type": "stream",
     "text": [
      "(CVXPY) Dec 27 11:50:47 AM: Encountered unexpected exception importing solver CVXOPT:\n",
      "ImportError('DLL load failed while importing base: Le module spécifié est introuvable.')\n",
      "(CVXPY) Dec 27 11:50:47 AM: Encountered unexpected exception importing solver GLPK:\n",
      "ImportError('DLL load failed while importing base: Le module spécifié est introuvable.')\n",
      "(CVXPY) Dec 27 11:50:47 AM: Encountered unexpected exception importing solver GLPK_MI:\n",
      "ImportError('DLL load failed while importing base: Le module spécifié est introuvable.')\n"
     ]
    }
   ],
   "source": [
    "import numpy as np\n",
    "import pandas as pd\n",
    "import yfinance as yf\n",
    "from itertools import combinations_with_replacement \n",
    "import cvxpy as cp"
   ]
  },
  {
   "cell_type": "code",
   "execution_count": 3,
   "metadata": {},
   "outputs": [],
   "source": [
    "def fetch_stock_yfinance(tickers, start_date, end_date):\n",
    "    \"\"\"\n",
    "    Fetch daily adjusted close prices for a list of tickers from Yahoo Finance.\n",
    "    \"\"\"\n",
    "    data = yf.download(tickers, start=start_date, end=end_date)[\"Adj Close\"]\n",
    "    return data.pct_change().dropna()"
   ]
  },
  {
   "cell_type": "code",
   "execution_count": 4,
   "metadata": {},
   "outputs": [],
   "source": [
    "def generate_partitions(n,k):\n",
    "    \"\"\"Generate some partitions of integer n into k parts.\n",
    "    \"\"\"\n",
    "    for c in combinations_with_replacement(range(n+1),k):\n",
    "        if sum(c) == n:\n",
    "            yield np.array(c) / n "
   ]
  },
  {
   "cell_type": "code",
   "execution_count": 34,
   "metadata": {},
   "outputs": [],
   "source": [
    "def evaluate_partitions(partitions, returns, cov_matrix, risk_tolerance):\n",
    "    \"\"\"\n",
    "    Evaluate portfolios based on a set of partitions that create the weights.\n",
    "    \"\"\"\n",
    "    best_portfolio = None\n",
    "    best_return = -np.inf\n",
    "\n",
    "    for weights in partitions:\n",
    "        expected_return = weights @ np.mean(returns, axis=0)\n",
    "        risk = weights.T @ cov_matrix @ weights\n",
    "        utility = expected_return - risk_tolerance * risk\n",
    "        if utility > best_return:\n",
    "            best_return = utility\n",
    "            best_portfolio = weights\n",
    "    portfolio_variance = best_portfolio.T @ cov_matrix @ best_portfolio\n",
    "    return best_portfolio, best_return, portfolio_variance"
   ]
  },
  {
   "cell_type": "code",
   "execution_count": 36,
   "metadata": {},
   "outputs": [],
   "source": [
    "def optimization_portfolio(returns, cov_matrix, risk_tolerance):\n",
    "    \"\"\"\n",
    "    Optimize the portfolio weights using quadratic programming (Mean-Variance Optimization).\n",
    "    \"\"\"\n",
    "    mean_returns = np.mean(returns, axis=0)  # Average returns (1D array of size n_assets)\n",
    "    n = len(mean_returns)  # Number of assets\n",
    "    w = cp.Variable(n)\n",
    "    utility = mean_returns @ w\n",
    "    constraints = [w.T @ cov_matrix @ w <= risk_tolerance,  # Risk constraint (variance)\n",
    "                cp.sum(w) == 1,\n",
    "                w >= 0]\n",
    "    problem = cp.Problem(cp.Maximize(utility), constraints)\n",
    "    result = problem.solve()\n",
    "    portfolio_variance = w.T @ cov_matrix @ w  # Portfolio variance\n",
    "    return w.value, result, portfolio_variance.value"
   ]
  },
  {
   "cell_type": "code",
   "execution_count": 45,
   "metadata": {},
   "outputs": [
    {
     "name": "stdout",
     "output_type": "stream",
     "text": [
      "[*********************100%***********************]  5 of 5 completed\n",
      "[*********************100%***********************]  5 of 5 completed\n"
     ]
    }
   ],
   "source": [
    "tickers = [\"AAPL\", \"MC.PA\", \"AI.PA\", \"NVDA\", \"DG.PA\"] # Apple, LVMH, Air Liquide, Nvidia, Vinci\n",
    "start_date = \"2023-01-01\"\n",
    "end_date = \"2023-12-31\"\n",
    "future_start_date = \"2024-01-01\"\n",
    "future_end_date = \"2024-12-31\"\n",
    "risk_tolerance = 1\n",
    "\n",
    "returns = fetch_stock_yfinance(tickers, start_date, end_date).values\n",
    "future_returns = fetch_stock_yfinance(tickers, future_start_date, future_end_date)\n",
    "\n",
    "cov_matrix = np.cov(returns, rowvar = False)\n",
    "nb_partitions = 100\n",
    "partitions = list(generate_partitions(nb_partitions, len(tickers)))"
   ]
  },
  {
   "cell_type": "code",
   "execution_count": 48,
   "metadata": {},
   "outputs": [
    {
     "name": "stdout",
     "output_type": "stream",
     "text": [
      "Using Partitions:\n",
      "\n",
      "Optimal Weights: [0. 0. 0. 0. 1.]\n",
      "Optimal Return: 0.0043860232681887015\n",
      "Risk associated to the Optimal portfolio: 0.0009069759783314611\n",
      "\n",
      "Using Markowitz theory:\n",
      "\n",
      "Optimal Weights: [3.45236924e-08 1.37289751e-08 1.31668530e-08 1.29690963e-08\n",
      " 9.99999926e-01]\n",
      "Optimal Return: 0.00529299894713947\n",
      "Risk associated to the Optimal portfolio: 0.0009069758595477774\n"
     ]
    }
   ],
   "source": [
    "optimal_weights_partition, optimal_return_partition, optimal_risk_partition = evaluate_partitions(partitions, returns, cov_matrix, risk_tolerance)\n",
    "\n",
    "optimal_weights_MV, optimal_return_MV, optimal_risk_MV  = optimization_portfolio(returns, cov_matrix, risk_tolerance)\n",
    "\n",
    "print(\"Using Partitions:\\n\")\n",
    "print(f\"Optimal Weights: {optimal_weights_partition}\")\n",
    "print(f\"Optimal Return: {optimal_return_partition}\")\n",
    "print(f\"Risk associated to the Optimal portfolio: {optimal_risk_partition}\\n\")\n",
    "print(\"Using Markowitz theory:\\n\")\n",
    "print(f\"Optimal Weights: {optimal_weights_MV}\")\n",
    "print(f\"Optimal Return: {optimal_return_MV}\")\n",
    "print(f\"Risk associated to the Optimal portfolio: {optimal_risk_MV}\")"
   ]
  },
  {
   "cell_type": "code",
   "execution_count": 49,
   "metadata": {},
   "outputs": [],
   "source": [
    "partition_portfolio_return = (future_returns @ optimal_weights_partition).cumsum()\n",
    "MV_portfolio_return = (future_returns @ optimal_weights_MV).cumsum()"
   ]
  },
  {
   "cell_type": "code",
   "execution_count": 51,
   "metadata": {},
   "outputs": [
    {
     "data": {
      "image/png": "[encoded data removed]",
      "text/plain": [
       "<Figure size 720x432 with 1 Axes>"
      ]
     },
     "metadata": {
      "needs_background": "light"
     },
     "output_type": "display_data"
    }
   ],
   "source": [
    "import matplotlib.pyplot as plt\n",
    "plt.figure(figsize=(10,6))\n",
    "plt.plot(future_returns.index, partition_portfolio_return, label=\"Partition Portfolio\")\n",
    "plt.plot(future_returns.index, MV_portfolio_return, label=\"Markowitz Portfolio\")\n",
    "plt.xlabel(\"Date\")\n",
    "plt.ylabel(\"Cumulative Returns\")\n",
    "plt.title(\"Portfolio Performance Comparison\")\n",
    "plt.legend()\n",
    "plt.grid()\n",
    "plt.show()"
   ]
  }
 ],
 "metadata": {
  "kernelspec": {
   "display_name": "base",
   "language": "python",
   "name": "python3"
  },
  "language_info": {
   "codemirror_mode": {
    "name": "ipython",
    "version": 3
   },
   "file_extension": ".py",
   "mimetype": "text/x-python",
   "name": "python",
   "nbconvert_exporter": "python",
   "pygments_lexer": "ipython3",
   "version": "3.8.8"
  }
 },
 "nbformat": 4,
 "nbformat_minor": 2
}
