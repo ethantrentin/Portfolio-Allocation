{
  "cells": [
    {
      "cell_type": "markdown",
      "metadata": {
        "id": "aFFOGA0PuBN9"
      },
      "source": [
        "## TD 3 Risk Model"
      ]
    },
    {
      "cell_type": "markdown",
      "metadata": {
        "id": "ZloE8m3WugJr"
      },
      "source": [
        "#### Exercise 1 : Risk model\n",
        "\n",
        "The Capital Asset Pricing Model (CAPM) assumes that asset returns can be shaped with $\\theta_i$ the specific risk of each asset : $\\mu_i - \\mu_f = \\beta_i (\\mu_m-\\mu_f)+\\epsilon_i$ where $\\epsilon_i \\sim \\mathcal{N}(0, \\theta_i^2)$"
      ]
    },
    {
      "cell_type": "markdown",
      "metadata": {},
      "source": [
        "a. Advantages of CAPM compared to Markowitz procedure for obtaining a efficiently diversified portfolio : \n",
        "- Simplicity as it reduces the dimensionality of the problem by focusing on the systematic risk (market beta) instead of considering the full covariance matrix as in the Markowitz procedure. \n",
        "- Easier to implement as CAPM uses a single factor (market protfolio) which is easier to estimate than the numerous inputs required for the Markowitz procedure.\n",
        "- Conceptual clarity : it provides a clear relationship between risk and expected return through the security market line.  \n",
        "\n",
        "And its disadvantages : \n",
        "- Strict assumptions : market are efficient, no taxes or transactions costs, investors hold mean-variance-efficient portfolios that may not hold in reality. \n",
        "- Focus on systematic risk : CAPM ignoes the idiosyncratic risk, which could be significant in practice for non-diversified portfolios. \n",
        "- Real-world performance : empirical studies sometimes show deviations from CAPM predictions (size, value, momentum effects). \n"
      ]
    },
    {
      "cell_type": "markdown",
      "metadata": {},
      "source": [
        "b. Impact of firm-specific risk on active investors' decisions : \n",
        "- Fir-specific risk (denoted by $\\theta$) doesn't affect the expected return in the CAPM framework because it is assumed to be diversifiable in a well-diverisifed portfolio (example in the slides of an equally weighted portfolio). \n",
        "- However, for an active investor managing a less diversified portfolio, higher firm-specified risk reduces the portfolio's Sharpe ratio because the overall risk increases without a corresponding increase in expected return. It makes the active investors less willing to deviate from the market portfolio. "
      ]
    },
    {
      "cell_type": "markdown",
      "metadata": {},
      "source": [
        "c. On $\\alpha$ : \n",
        "- Alpha is called a non-market return premium as it measures the excess return of an asset or portfolio beyond what is predicted by the CAPM (market return). It represents the value added by active management or other factors not captured by market beta. \n",
        "- High-alpha stocks are desirable as they will provide excess returns, making them attractive to active portfolio managers seeking to outperform the market. \n",
        "- Impact on the Sharpe ratio if the $\\alpha$ increases : the Sharpe ratio improves if the alpha of individual securities in the portfolio increases as the expected return increases, as long as other parameters remain constant, such as the risk. \n"
      ]
    },
    {
      "cell_type": "markdown",
      "metadata": {},
      "source": [
        "d. For mean-variance optimization of 60 securities : \n",
        "- Expected returns : 60 estimates (one for each security)\n",
        "- Variances : 60 estimates\n",
        "- Covariance : 60*(60-1)/2 = 1770.\n",
        "- Total estimates = 1890 estimates.\n",
        "\n",
        "If CAPM assumptions hold : \n",
        "- One market return estimate \n",
        "- 60 betas (systematic risk, relative to the market) for the securities. \n",
        "- Total estimates = 61 estimates which significantly reduces the number of estimates needed. "
      ]
    },
    {
      "cell_type": "markdown",
      "metadata": {
        "id": "jPtF90z6QEna"
      },
      "source": [
        "#### Exercise 2 : Tactical views\n",
        "\n",
        "$w_{rob} = argmax(\\overline{\\mu}^Tw- \\kappa \\sqrt{w^T \\Omega w}-\\frac{\\lambda}{2}w^T \\Sigma w)$ with $w_{rob}$ the weights of actif portfolio, $\\overline{\\mu}$ the expected returns, $\\kappa$ the uncertainty on return, $\\lambda$ the risk aversion, $\\Sigma$ variance-covariance matrix and $\\Omega$ the uncertainty matrix.   "
      ]
    },
    {
      "cell_type": "code",
      "execution_count": null,
      "metadata": {
        "id": "JXLrVaxGs6hz"
      },
      "outputs": [],
      "source": [
        "import numpy as np\n",
        "from scipy.optimize import minimize\n",
        "sigma = np.array([0.143, 0.164, 0.083, 0.07, 0.001])\n",
        "rho = np.array([[1, 0.821, 0.285, -0.06, 0],\n",
        "               [0.821,1,0.344,0.017, 0],\n",
        "               [0.285, 0.344, 1, 0.589, 0],\n",
        "               [0.06,0.017,0.589,1, 0],\n",
        "               [0,0,0,0,1]])\n",
        "w_eq = np.array([0.25,0.25,0.25,0.25,0])\n",
        "kappa = 0.2\n",
        "lamb = 13.3\n",
        "risk_budget = 0.03\n",
        "n = len(sigma)\n",
        "Sigma = np.zeros((n,n))\n",
        "for i in range(n):\n",
        "    for j in range(n):\n",
        "        Sigma[i,j] = sigma[i]*sigma[j]*rho[i,j]\n",
        "Omega = np.diag(np.diag(Sigma))"
      ]
    },
    {
      "cell_type": "code",
      "execution_count": 15,
      "metadata": {
        "id": "raVvpCfbWqZu"
      },
      "outputs": [],
      "source": [
        "score_views = np.array([-0.25, 0.75, 0, 0.5, 0])\n",
        "# Indeed, there is a slowdown in the US economy with a score of 25%, a recovery in the Euro Zone with a score of 75%, \n",
        "# and a fall in the Euro zone 10y rate with a score of 50%, that is to say an increase in the price of the bond.\n",
        "mu = score_views * sigma"
      ]
    },
    {
      "cell_type": "code",
      "execution_count": 16,
      "metadata": {},
      "outputs": [
        {
          "name": "stdout",
          "output_type": "stream",
          "text": [
            "Unconstrained Tactical Portfolio Weights:  [-0.05883234  0.45876509  0.02976658  0.40192185  0.        ]\n",
            "Tracking Error:  0.030000079713092143\n"
          ]
        }
      ],
      "source": [
        "def objective(w):\n",
        "    return -(mu.T @ w - kappa * np.sqrt(w.T @ Omega @ w) - lamb/2 * w.T @ Sigma @ w)\n",
        "\n",
        "def tracking_error_constraint(w):\n",
        "    return risk_budget - np.sqrt((w-w_eq).T @ Sigma @ (w-w_eq))\n",
        "\n",
        "constraints = [{'type':'ineq', 'fun': tracking_error_constraint}]\n",
        "\n",
        "result = minimize(objective, w_eq, constraints=constraints, method = \"SLSQP\")\n",
        "w_rob = result.x\n",
        "print(\"Unconstrained Tactical Portfolio Weights: \", w_rob)\n",
        "print(\"Tracking Error: \", np.sqrt((w_rob-w_eq).T @ Sigma @ (w_rob-w_eq)))"
      ]
    },
    {
      "cell_type": "code",
      "execution_count": 19,
      "metadata": {},
      "outputs": [
        {
          "name": "stdout",
          "output_type": "stream",
          "text": [
            "Vector of expected returns from tactical views: [-0.34965035  0.91463415  0.          1.42857143  0.        ]\n"
          ]
        }
      ],
      "source": [
        "expected_return = kappa*np.linalg.inv(Omega) @ mu # as here the benchmark mu is set to the null vector.\n",
        "print(\"Vector of expected returns from tactical views:\", expected_return)"
      ]
    },
    {
      "cell_type": "code",
      "execution_count": 21,
      "metadata": {},
      "outputs": [
        {
          "name": "stdout",
          "output_type": "stream",
          "text": [
            "Unconstrained Tactical Portfolio Weights:  [-7.88617887e-17  3.77907039e-01  1.40351425e-16  4.23815964e-01\n",
            "  1.98276997e-01]\n",
            "Tracking Error compared to the benchmark (equal to 0 by definition):  0.030000001436052352\n"
          ]
        }
      ],
      "source": [
        "def constraint_sum_to_one(w):\n",
        "    return np.sum(w) - 1\n",
        "\n",
        "def constraint_non_negative(w):\n",
        "    return w\n",
        "\n",
        "# Constraints definition for scipy.optimize.minimize\n",
        "constraints = ({'type':'ineq', 'fun': tracking_error_constraint},\n",
        "               {'type': 'eq', 'fun': constraint_sum_to_one},\n",
        "                {'type': 'ineq', 'fun': constraint_non_negative})\n",
        "\n",
        "result_final = minimize(objective, w_eq, constraints=constraints, method = \"SLSQP\")\n",
        "w_rob_final = result_final.x\n",
        "print(\"Unconstrained Tactical Portfolio Weights: \", w_rob_final)\n",
        "print(\"Tracking Error compared to the benchmark (equal to 0 by definition): \", np.sqrt((w_rob_final-w_eq).T @ Sigma @ (w_rob_final-w_eq)))"
      ]
    }
  ],
  "metadata": {
    "colab": {
      "provenance": []
    },
    "kernelspec": {
      "display_name": "base",
      "language": "python",
      "name": "python3"
    },
    "language_info": {
      "codemirror_mode": {
        "name": "ipython",
        "version": 3
      },
      "file_extension": ".py",
      "mimetype": "text/x-python",
      "name": "python",
      "nbconvert_exporter": "python",
      "pygments_lexer": "ipython3",
      "version": "3.8.8"
    }
  },
  "nbformat": 4,
  "nbformat_minor": 0
}
