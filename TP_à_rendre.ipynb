{
 "cells": [
  {
   "cell_type": "markdown",
   "metadata": {},
   "source": [
    "## Tutorial Portfolio Allocation with BNP Paribas Asset Management\n",
    "\n",
    "Notebook by Max Pommier, Hugo Yérémian, Simon Teherc, William Roche and Ethan Trentin. "
   ]
  },
  {
   "cell_type": "code",
   "execution_count": 21,
   "metadata": {},
   "outputs": [],
   "source": [
    "import matplotlib.pyplot as plt\n",
    "import numpy as np\n",
    "import pandas as pd\n",
    "import cvxpy as cp\n",
    "from scipy.optimize import minimize"
   ]
  },
  {
   "cell_type": "markdown",
   "metadata": {},
   "source": [
    "Exercice 1 : Efficient frontier "
   ]
  },
  {
   "cell_type": "markdown",
   "metadata": {},
   "source": [
    "We will first define the correlation matrix $\\rho$ and the vector of volatility $\\sigma$ for the stocks AAPL (Apple), GOOGL (Google), MSFT (Microsoft), AMZN (Amazon), META (Meta), TSLA (Tesla), GS (Goldman Sachs) & Cash. "
   ]
  },
  {
   "cell_type": "code",
   "execution_count": 16,
   "metadata": {},
   "outputs": [],
   "source": [
    "mu = np.array([0.072,0.032,0.067,0.039,0.063,0.052,0.05,0])\n",
    "sigma = np.array([0.18,0.12,0.16,0.13,0.14,0.13,0.12,0.005])\n",
    "rho = np.array([[1,   0.47, 0.38, 0.35, 0.40, 0.25, 0.80, 0], \n",
    "               [0.47,    1, 0.10, 0.15, 0.75,-0.20, 0.36, 0], \n",
    "               [0.38, 0.10,    1,-0.23, 0.05, 0.10, 0.25, 0], \n",
    "               [0.35, 0.15,-0.23,    1,-0.23, 0.11, 0.13, 0],\n",
    "               [0.40, 0.75, 0.05,-0.23, 1,   -0.08, 0.31, 0],\n",
    "               [0.25,-0.20, 0.10, 0.11,-0.08,    1, 0.64, 0],\n",
    "               [0.80, 0.36, 0.25, 0.13, 0.31, 0.64,    1, 0],\n",
    "               [0,       0,    0,    0,    0,    0,    0, 1]])\n",
    "kappa = 0.2"
   ]
  },
  {
   "cell_type": "code",
   "execution_count": 8,
   "metadata": {},
   "outputs": [
    {
     "data": {
      "text/plain": [
       "array([[ True,  True,  True,  True,  True,  True,  True,  True],\n",
       "       [ True,  True,  True,  True,  True,  True,  True,  True],\n",
       "       [ True,  True,  True,  True,  True,  True,  True,  True],\n",
       "       [ True,  True,  True,  True,  True,  True,  True,  True],\n",
       "       [ True,  True,  True,  True,  True,  True,  True,  True],\n",
       "       [ True,  True,  True,  True,  True,  True,  True,  True],\n",
       "       [ True,  True,  True,  True,  True,  True,  True,  True],\n",
       "       [ True,  True,  True,  True,  True,  True,  True,  True]])"
      ]
     },
     "execution_count": 8,
     "metadata": {},
     "output_type": "execute_result"
    }
   ],
   "source": [
    "## Just to check that rho was correctly defined\n",
    "rho.T == rho"
   ]
  },
  {
   "cell_type": "code",
   "execution_count": 10,
   "metadata": {},
   "outputs": [
    {
     "data": {
      "text/plain": [
       "array([[ 3.2400e-02,  1.0152e-02,  1.0944e-02,  8.1900e-03,  1.0080e-02,\n",
       "         5.8500e-03,  1.7280e-02,  0.0000e+00],\n",
       "       [ 1.0152e-02,  1.4400e-02,  1.9200e-03,  2.3400e-03,  1.2600e-02,\n",
       "        -3.1200e-03,  5.1840e-03,  0.0000e+00],\n",
       "       [ 1.0944e-02,  1.9200e-03,  2.5600e-02, -4.7840e-03,  1.1200e-03,\n",
       "         2.0800e-03,  4.8000e-03,  0.0000e+00],\n",
       "       [ 8.1900e-03,  2.3400e-03, -4.7840e-03,  1.6900e-02, -4.1860e-03,\n",
       "         1.8590e-03,  2.0280e-03,  0.0000e+00],\n",
       "       [ 1.0080e-02,  1.2600e-02,  1.1200e-03, -4.1860e-03,  1.9600e-02,\n",
       "        -1.4560e-03,  5.2080e-03,  0.0000e+00],\n",
       "       [ 5.8500e-03, -3.1200e-03,  2.0800e-03,  1.8590e-03, -1.4560e-03,\n",
       "         1.6900e-02,  9.9840e-03,  0.0000e+00],\n",
       "       [ 1.7280e-02,  5.1840e-03,  4.8000e-03,  2.0280e-03,  5.2080e-03,\n",
       "         9.9840e-03,  1.4400e-02,  0.0000e+00],\n",
       "       [ 0.0000e+00,  0.0000e+00,  0.0000e+00,  0.0000e+00,  0.0000e+00,\n",
       "         0.0000e+00,  0.0000e+00,  2.5000e-05]])"
      ]
     },
     "execution_count": 10,
     "metadata": {},
     "output_type": "execute_result"
    }
   ],
   "source": [
    "## We define the covariance matrix thanks to the correlation matrix\n",
    "n = len(mu) # Number of stocks considered\n",
    "Sigma = np.zeros((n,n))\n",
    "for i in range(n):\n",
    "  for j in range(n):\n",
    "    Sigma[i,j] = rho[i,j]*sigma[i]*sigma[j]\n",
    "Sigma"
   ]
  },
  {
   "cell_type": "code",
   "execution_count": 30,
   "metadata": {},
   "outputs": [
    {
     "data": {
      "text/plain": [
       "array([[3.24e-02, 0.00e+00, 0.00e+00, 0.00e+00, 0.00e+00, 0.00e+00,\n",
       "        0.00e+00, 0.00e+00],\n",
       "       [0.00e+00, 1.44e-02, 0.00e+00, 0.00e+00, 0.00e+00, 0.00e+00,\n",
       "        0.00e+00, 0.00e+00],\n",
       "       [0.00e+00, 0.00e+00, 2.56e-02, 0.00e+00, 0.00e+00, 0.00e+00,\n",
       "        0.00e+00, 0.00e+00],\n",
       "       [0.00e+00, 0.00e+00, 0.00e+00, 1.69e-02, 0.00e+00, 0.00e+00,\n",
       "        0.00e+00, 0.00e+00],\n",
       "       [0.00e+00, 0.00e+00, 0.00e+00, 0.00e+00, 1.96e-02, 0.00e+00,\n",
       "        0.00e+00, 0.00e+00],\n",
       "       [0.00e+00, 0.00e+00, 0.00e+00, 0.00e+00, 0.00e+00, 1.69e-02,\n",
       "        0.00e+00, 0.00e+00],\n",
       "       [0.00e+00, 0.00e+00, 0.00e+00, 0.00e+00, 0.00e+00, 0.00e+00,\n",
       "        1.44e-02, 0.00e+00],\n",
       "       [0.00e+00, 0.00e+00, 0.00e+00, 0.00e+00, 0.00e+00, 0.00e+00,\n",
       "        0.00e+00, 2.50e-05]])"
      ]
     },
     "execution_count": 30,
     "metadata": {},
     "output_type": "execute_result"
    }
   ],
   "source": [
    "Omega = np.diag(np.diag(Sigma))\n",
    "Omega"
   ]
  },
  {
   "cell_type": "markdown",
   "metadata": {},
   "source": [
    "a. Plot the efficient frontier based on Markowitz optimization with the following constraints : no investment in cash, short selling investment is allowed to one notional (-100%), leverage is allowed up to two notionals (200%) and we also have the constraint of full investment. Can you plot the\n",
    "efficient frontier from a volatility of 12% until 18% ? "
   ]
  },
  {
   "cell_type": "code",
   "execution_count": 36,
   "metadata": {},
   "outputs": [
    {
     "data": {
      "image/png": "[encoded data removed]",
      "text/plain": [
       "<Figure size 720x432 with 1 Axes>"
      ]
     },
     "metadata": {
      "needs_background": "light"
     },
     "output_type": "display_data"
    }
   ],
   "source": [
    "vector_risk = np.linspace(0.12, 0.18, 100)\n",
    "\n",
    "expected_returns = []\n",
    "\n",
    "for risk in vector_risk:\n",
    "  w = cp.Variable(n)\n",
    "  objective = cp.Maximize(mu.T @ w)\n",
    "  constraints = [\n",
    "    cp.sum(w) == 1,             # Full investment constraint\n",
    "    w >= -1,                    # Short selling allowed up to -100% : it concerns each stock\n",
    "    cp.norm1(w) <= 2,           # Leverage constraint (sum of absolute weights ≤ 200%) : the leverage is on the whole portfolio\n",
    "    w[-1]==0,                    # No investment in cash\n",
    "    w.T @ Sigma @ w <= risk**2, # Risk constraint\n",
    "]\n",
    "\n",
    "  prob = cp.Problem(objective, constraints)\n",
    "  result = prob.solve()\n",
    "\n",
    "  if prob.status == 'optimal':\n",
    "    expected_returns.append(result*100)\n",
    "  else:\n",
    "    expected_returns.append(np.nan) # To handle cases where optimization fails\n",
    "\n",
    "plt.figure(figsize=(10, 6))\n",
    "plt.plot(vector_risk, expected_returns, marker='o', linestyle='-', color = \"b\", markersize=4)\n",
    "plt.xlabel('Annualized Volatility (Standard Deviation)')\n",
    "plt.ylabel('Annualized Expected Return in %')\n",
    "plt.title('Efficient Frontier')\n",
    "plt.grid(True)\n",
    "plt.show()"
   ]
  },
  {
   "cell_type": "markdown",
   "metadata": {},
   "source": [
    "b. On the same chart, can you add the efficient frontier based on Robust Optimization with the same constraints ? "
   ]
  },
  {
   "cell_type": "markdown",
   "metadata": {},
   "source": [
    "Let's consider the following optimization problem :  \n",
    "$$w_{rob} = argmax(\\overline{\\mu}^Tw-\\kappa\\sqrt{w^T \\Omega w})$$\n",
    "\n",
    "where $w_{rob}$ is the vector of the assets weights, $\\overline{\\mu}$ the vector of returns, $\\kappa$ the return error aversion parameter and $\\Omega$ the error variance-covariance matrix."
   ]
  },
  {
   "cell_type": "code",
   "execution_count": 39,
   "metadata": {},
   "outputs": [
    {
     "data": {
      "image/png": "[encoded data removed]",
      "text/plain": [
       "<Figure size 720x432 with 1 Axes>"
      ]
     },
     "metadata": {
      "needs_background": "light"
     },
     "output_type": "display_data"
    }
   ],
   "source": [
    "def objective_function(w):\n",
    "    return - (mu.T @ w - kappa * np.sqrt(w.T @ Omega @ w))\n",
    "\n",
    "def constraint_sum_to_one(w):\n",
    "    return np.sum(w) - 1\n",
    "\n",
    "def constraint_short_selling(w):\n",
    "    return w+1\n",
    "\n",
    "def constraint_leverage(w):\n",
    "    return 2 - np.sum(np.abs(w))\n",
    "\n",
    "# Bounds for weights\n",
    "bounds = [(0, 0) if i == n-1 else (-1, 2) for i in range(n)]\n",
    " # So we have w[-1]=0 meaning no investment on cash.\n",
    "\n",
    "robust_returns = []\n",
    "\n",
    "for risk in vector_risk:\n",
    "    # Initial guess for weights (e.g., equally weighted)\n",
    "    w0 = np.ones(n) / n\n",
    "\n",
    "    def constraint_risk(w):\n",
    "        return risk**2-w.T @ Sigma @ w  \n",
    "    # Constraints definition for scipy.optimize.minimize\n",
    "    constraints = ({'type': 'eq', 'fun': constraint_sum_to_one},\n",
    "                {'type': 'ineq', 'fun': constraint_short_selling},\n",
    "                {'type': 'ineq', 'fun': constraint_risk},\n",
    "                {'type': 'ineq', 'fun': constraint_leverage})\n",
    "    # Optimization\n",
    "    result = minimize(objective_function, w0, method='SLSQP', bounds=bounds, constraints=constraints)\n",
    "    # Print results\n",
    "    if result.success:\n",
    "        w_rob = result.x\n",
    "        robust_returns.append(mu @ w_rob)\n",
    "\n",
    "\n",
    "plt.figure(figsize=(10, 6))\n",
    "plt.plot(vector_risk, expected_returns, marker='o', linestyle='-', color = \"b\", markersize=4, label = \"Markowitz\")\n",
    "plt.plot(vector_risk, robust_returns, marker='o', linestyle='-', color = \"r\", markersize=4, label = \"Robust\")\n",
    "plt.xlabel('Annualized Volatility (Standard Deviation)')\n",
    "plt.ylabel('Annualized Expected Return in %')\n",
    "plt.title('Comparison of the Markowitz Efficient Frontier and the Robust Efficient Frontier')\n",
    "plt.grid(True)\n",
    "plt.legend()\n",
    "plt.show()"
   ]
  },
  {
   "cell_type": "markdown",
   "metadata": {},
   "source": [
    "c. Explain these results ! "
   ]
  }
 ],
 "metadata": {
  "kernelspec": {
   "display_name": "base",
   "language": "python",
   "name": "python3"
  },
  "language_info": {
   "codemirror_mode": {
    "name": "ipython",
    "version": 3
   },
   "file_extension": ".py",
   "mimetype": "text/x-python",
   "name": "python",
   "nbconvert_exporter": "python",
   "pygments_lexer": "ipython3",
   "version": "3.8.8"
  }
 },
 "nbformat": 4,
 "nbformat_minor": 2
}
