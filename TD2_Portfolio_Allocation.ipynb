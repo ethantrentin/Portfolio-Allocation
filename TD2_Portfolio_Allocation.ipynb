{
  "nbformat": 4,
  "nbformat_minor": 0,
  "metadata": {
    "colab": {
      "provenance": []
    },
    "kernelspec": {
      "name": "python3",
      "display_name": "Python 3"
    },
    "language_info": {
      "name": "python"
    }
  },
  "cells": [
    {
      "cell_type": "markdown",
      "source": [
        "## TD 2 Portfolio Allocation : Sensitivity of Markowitz & Robust Optimization"
      ],
      "metadata": {
        "id": "bfiXQGQl0dIf"
      }
    },
    {
      "cell_type": "markdown",
      "source": [
        "#### Exercise 1 :"
      ],
      "metadata": {
        "id": "g3crqhLT-nnj"
      }
    },
    {
      "cell_type": "code",
      "execution_count": null,
      "metadata": {
        "id": "DHME4umO0XaC"
      },
      "outputs": [],
      "source": [
        "import numpy as np\n",
        "sigma = np.array([0.143, 0.164, 0.083, 0.07])\n",
        "rho = np.array([[1, 0.821, 0.285, 0.06],\n",
        "               [0.821,1,0.344,0.017],\n",
        "               [0.285, 0.344, 1, 0.589],\n",
        "               [0.06,0.017,0.589,1]])"
      ]
    },
    {
      "cell_type": "code",
      "source": [
        "n = len(sigma)\n",
        "Sigma = np.zeros((n,n))\n",
        "for i in range(n):\n",
        "    for j in range(n):\n",
        "        Sigma[i,j] = sigma[i]*sigma[j]*rho[i,j]"
      ],
      "metadata": {
        "id": "BC-4R9ib_G1T"
      },
      "execution_count": null,
      "outputs": []
    },
    {
      "cell_type": "code",
      "source": [
        "# For the minimum variance portfolio :\n",
        "import cvxpy as cp\n",
        "w = cp.Variable(n)\n",
        "objective = cp.Minimize(w.T @ Sigma @ w)\n",
        "\n",
        "one = np.ones(n)\n",
        "\n",
        "# Define the constraints\n",
        "constraints = [\n",
        "    one.T @ w == 1\n",
        "]\n",
        "\n",
        "# Define and solve the problem\n",
        "prob = cp.Problem(objective, constraints)\n",
        "result = prob.solve()\n",
        "\n",
        "# Output the results\n",
        "print(\"Optimal weights w_MVO:\", w.value)\n",
        "print(\"Minimum variance:\", result)"
      ],
      "metadata": {
        "colab": {
          "base_uri": "https://localhost:8080/"
        },
        "id": "ISnPl-H4EfNZ",
        "outputId": "bf19a71a-2451-4e4a-a96f-de626bf78854"
      },
      "execution_count": null,
      "outputs": [
        {
          "output_type": "stream",
          "name": "stdout",
          "text": [
            "Optimal weights w_MVO: [0.12225036 0.02869254 0.15894766 0.69010944]\n",
            "Minimum variance: 0.0040044926872429675\n"
          ]
        }
      ]
    },
    {
      "cell_type": "code",
      "source": [
        "num = np.linalg.inv(Sigma) @ one\n",
        "den = (one.T @ np.linalg.inv(Sigma) @ one)\n",
        "w = num / den\n",
        "print(\"Theoretical optimal weights w_MV:\", w)"
      ],
      "metadata": {
        "colab": {
          "base_uri": "https://localhost:8080/"
        },
        "id": "PCvbskI_GPjt",
        "outputId": "3be8979c-436d-41d9-cada-3f20b9b6a052"
      },
      "execution_count": null,
      "outputs": [
        {
          "output_type": "stream",
          "name": "stdout",
          "text": [
            "Theoretical optimal weights w_MV: [0.12225036 0.02869254 0.15894766 0.69010944]\n"
          ]
        }
      ]
    },
    {
      "cell_type": "code",
      "source": [
        "# For the equal risk budget portfolio :\n",
        "from scipy.optimize import minimize\n",
        "def risk_contribution(weights,Sigma):\n",
        "  portfolio_risk = np.sqrt(weights.T @ Sigma @ weights)\n",
        "  marginal_risk = Sigma @ weights\n",
        "  risk_contributions = weights * marginal_risk / portfolio_risk\n",
        "  return risk_contributions\n",
        "\n",
        "def objective(weights, Sigma):\n",
        "  rc = risk_contribution(weights, Sigma)\n",
        "  return np.sum(rc-np.mean(rc)**2)\n",
        "\n",
        "constraints = [{'type':'eq', 'fun': lambda w: np.sum(w)-1}]\n",
        "bounds = [(0,1) for _ in range(n)] # Long-only constraints\n",
        "\n",
        "w0 = np.ones(n) / n # Initial guess\n",
        "\n",
        "result = minimize(objective, w0, args=(Sigma,), constraints = constraints, bounds = bounds)\n",
        "if result.success:\n",
        "  w = result.x\n",
        "  print(\"Optimal weights w_ERB:\", w)\n",
        "  print(\"Variance of the portfolio:\", w.T @Sigma @ w)\n",
        "else:\n",
        "  print(\"Optimization failed\")"
      ],
      "metadata": {
        "colab": {
          "base_uri": "https://localhost:8080/"
        },
        "id": "qvT2UH-THz6o",
        "outputId": "60bee5d6-3c31-4afc-9b0f-a0dcb0d4702f"
      },
      "execution_count": null,
      "outputs": [
        {
          "output_type": "stream",
          "name": "stdout",
          "text": [
            "Optimal weights w_ERB: [0.1220445  0.02868691 0.15835797 0.69091062]\n",
            "Variance of the portfolio: 0.004004496559010808\n"
          ]
        }
      ]
    },
    {
      "cell_type": "code",
      "source": [
        "# For the inverse variance portfolio :\n",
        "inv_variance = 1/sigma**2\n",
        "w = inv_variance / np.sum(inv_variance)\n",
        "print(\"Optimal weights w_IV:\", w)\n",
        "print(\"Variance of the portfolio:\", w.T @Sigma @ w)"
      ],
      "metadata": {
        "colab": {
          "base_uri": "https://localhost:8080/"
        },
        "id": "f_pexDBdNVzb",
        "outputId": "aa1f2b99-c767-40ef-fa02-97442a7d4c98"
      },
      "execution_count": null,
      "outputs": [
        {
          "output_type": "stream",
          "name": "stdout",
          "text": [
            "Optimal weights w_IV: [0.11233532 0.08540842 0.33345115 0.4688051 ]\n",
            "Variance of the portfolio: 0.0043355322513826495\n"
          ]
        }
      ]
    },
    {
      "cell_type": "code",
      "source": [
        "# For the equally weighted portfolio :\n",
        "w = np.ones(n)/n\n",
        "print(\"Optimal weights w_EW:\", w)\n",
        "print(\"Variance of the portfolio:\", w.T @Sigma @ w)"
      ],
      "metadata": {
        "colab": {
          "base_uri": "https://localhost:8080/"
        },
        "id": "DlczENkASW1m",
        "outputId": "3792f531-fd39-4634-ef78-47950ef663b2"
      },
      "execution_count": null,
      "outputs": [
        {
          "output_type": "stream",
          "name": "stdout",
          "text": [
            "Optimal weights w_EW: [0.25 0.25 0.25 0.25]\n",
            "Variance of the portfolio: 0.007638016875\n"
          ]
        }
      ]
    },
    {
      "cell_type": "markdown",
      "source": [
        "#### Exercise 2 : Robust Optimization\n",
        "\n",
        "Let's consider the following problem :  \n",
        "$$w_{rob} = argmax(\\overline{\\mu}^Tw-\\kappa\\sqrt{w^T \\Omega w}-\\frac{\\lambda}{2} w^T\\Omega w)$$"
      ],
      "metadata": {
        "id": "lfFWxrRhUQ_d"
      }
    },
    {
      "cell_type": "code",
      "source": [
        "# Let's define the parameters :\n",
        "mu = np.array([0.0548, 0.0706, 0.0038, 0.0041])\n",
        "lamb = 2\n",
        "kappa = 0.25\n",
        "sigma = np.array([0.143, 0.164, 0.083, 0.07])\n",
        "rho = np.array([[1, 0.821, 0.285, 0.06],\n",
        "               [0.821,1,0.344,0.017],\n",
        "               [0.285, 0.344, 1, 0.589],\n",
        "               [0.06,0.017,0.589,1]])\n",
        "D = np.diag(sigma)\n",
        "Omega = D @ rho @ D"
      ],
      "metadata": {
        "id": "cMzVa9yRUTpz"
      },
      "execution_count": null,
      "outputs": []
    },
    {
      "cell_type": "code",
      "source": [
        "def objective_function(w):\n",
        "    return -(mu.T @ w - kappa * np.sqrt(w.T @ Omega @ w) - lamb/2 * w.T @ Omega @ w)\n",
        "\n",
        "def constraint_sum_to_one(w):\n",
        "    return np.sum(w) - 1\n",
        "\n",
        "def constraint_non_negative(w):\n",
        "    return w\n",
        "\n",
        "# Initial guess for weights (e.g., equally weighted)\n",
        "w0 = np.ones(n) / n\n",
        "\n",
        "# Constraints definition for scipy.optimize.minimize\n",
        "constraints = ({'type': 'eq', 'fun': constraint_sum_to_one},\n",
        "                {'type': 'ineq', 'fun': constraint_non_negative})\n",
        "\n",
        "# Bounds for weights (0 to 1, inclusive)\n",
        "bounds = [(0, 1) for _ in range(n)]\n",
        "\n",
        "# Optimization\n",
        "result = minimize(objective_function, w0, method='SLSQP', bounds=bounds, constraints=constraints)\n",
        "\n",
        "# Print results\n",
        "if result.success:\n",
        "    w_rob = result.x\n",
        "    print(\"Optimal weights w_rob:\", np.round(w_rob,2))\n",
        "    print(\"Maximum expected return:\", np.round(mu.T @ w_rob * 100, 2), \"%\")\n",
        "    print(\"Portfolio variance:\", np.round(w_rob.T @ Omega @ w_rob,2))\n",
        "else:\n",
        "    print(\"Optimization failed:\", result.message)"
      ],
      "metadata": {
        "colab": {
          "base_uri": "https://localhost:8080/"
        },
        "id": "j1ugBxheaxXT",
        "outputId": "df674519-6271-492d-83d7-6df242e071ac"
      },
      "execution_count": null,
      "outputs": [
        {
          "output_type": "stream",
          "name": "stdout",
          "text": [
            "Optimal weights w_rob: [0.16 0.52 0.   0.32]\n",
            "Maximum expected return: 4.7 %\n",
            "Maximum expected return: 0.82 %\n",
            "Portfolio variance: 0.01\n"
          ]
        }
      ]
    },
    {
      "cell_type": "code",
      "source": [
        "# Verification :\n",
        "print(w.sum())\n",
        "print(w >= 0)"
      ],
      "metadata": {
        "colab": {
          "base_uri": "https://localhost:8080/"
        },
        "id": "0xREJ8kbES-s",
        "outputId": "5af79844-8e62-4cc1-fa1e-689d85202673"
      },
      "execution_count": null,
      "outputs": [
        {
          "output_type": "stream",
          "name": "stdout",
          "text": [
            "1.0\n",
            "[ True  True  True  True]\n"
          ]
        }
      ]
    },
    {
      "cell_type": "code",
      "source": [
        "# Without constraints to check if the result makes sense\n",
        "def objective_function(w):\n",
        "    return -(mu.T @ w - kappa * np.sqrt(w.T @ Omega @ w) - lamb/2 * w.T @ Omega @ w)\n",
        "\n",
        "def constraint_sum_to_one(w):\n",
        "    return np.sum(w) - 1\n",
        "\n",
        "def constraint_non_negative(w):\n",
        "    return w\n",
        "\n",
        "# Initial guess for weights (e.g., equally weighted)\n",
        "w0 = np.ones(n) / n\n",
        "\n",
        "\n",
        "# Optimization\n",
        "result = minimize(objective_function, w0, method='SLSQP')\n",
        "\n",
        "# Print results\n",
        "if result.success:\n",
        "    w_rob = result.x\n",
        "    print(\"Optimal weights w_rob:\", np.round(w_rob,2))\n",
        "    print(\"Maximum expected return:\", np.round(mu.T @ w_rob * 100, 2), \"%\")\n",
        "    print(\"Portfolio variance:\", np.round(w_rob.T @ Omega @ w_rob,2))\n",
        "else:\n",
        "    print(\"Optimization failed:\", result.message)"
      ],
      "metadata": {
        "colab": {
          "base_uri": "https://localhost:8080/"
        },
        "id": "4_mGi8XeE7Cw",
        "outputId": "53dc489f-bd2d-4bf6-e44d-f18e3c485672"
      },
      "execution_count": null,
      "outputs": [
        {
          "output_type": "stream",
          "name": "stdout",
          "text": [
            "Optimal weights w_rob: [ 0.11  0.65 -0.68  0.63]\n",
            "Maximum expected return: 5.18 %\n",
            "Portfolio variance: 0.01\n"
          ]
        }
      ]
    },
    {
      "cell_type": "markdown",
      "source": [
        "When $\\kappa \\rightarrow + \\infty$, we get that the weights converges to a minimum variance portfolio. Indeed, the term $-\\kappa \\sqrt{w^T \\Omega w}$ dominates the calculation and as we want to maximize it, we want to minimize the impact of $w^T \\Omega w$, that is to say a minimum variance portfolio."
      ],
      "metadata": {
        "id": "t9ZaHig3FqaC"
      }
    },
    {
      "cell_type": "code",
      "source": [
        "kappa = [1,10,100,1000,10000]\n",
        "for k in kappa:\n",
        "  def objective_function(w):\n",
        "      return -(mu.T @ w - k * np.sqrt(w.T @ Omega @ w) - lamb/2 * w.T @ Omega @ w)\n",
        "\n",
        "  def constraint_sum_to_one(w):\n",
        "      return np.sum(w) - 1\n",
        "\n",
        "  def constraint_non_negative(w):\n",
        "      return w\n",
        "\n",
        "  # Initial guess for weights (e.g., equally weighted)\n",
        "  w0 = np.ones(n) / n\n",
        "\n",
        "  # Constraints definition for scipy.optimize.minimize\n",
        "  constraints = ({'type': 'eq', 'fun': constraint_sum_to_one},\n",
        "                  {'type': 'ineq', 'fun': constraint_non_negative})\n",
        "\n",
        "  # Bounds for weights (0 to 1, inclusive)\n",
        "  bounds = [(0, 1) for _ in range(n)]\n",
        "\n",
        "  # Optimization\n",
        "  result = minimize(objective_function, w0, method='SLSQP', bounds=bounds, constraints=constraints)\n",
        "\n",
        "  # Print results\n",
        "  if result.success:\n",
        "      w_rob = result.x\n",
        "      print(\"For kappa =\",k)\n",
        "      print(\"Optimal weights w_rob:\", w_rob)\n",
        "      print(\"The difference with the minimum variance portfolio is:\",w_rob-[0.12225036, 0.02869254, 0.15894766, 0.69010944])\n",
        "  else:\n",
        "      print(\"Optimization failed:\", result.message)"
      ],
      "metadata": {
        "colab": {
          "base_uri": "https://localhost:8080/"
        },
        "id": "FdjQP2C0H2kp",
        "outputId": "4a28cda4-e4d2-454c-b486-2c6a15368d9e"
      },
      "execution_count": null,
      "outputs": [
        {
          "output_type": "stream",
          "name": "stdout",
          "text": [
            "For kappa = 1\n",
            "Optimal weights w_rob: [1.29051647e-01 1.80249953e-01 2.37440276e-17 6.90698400e-01]\n",
            "The difference with the minimum variance portfolio is: [ 0.00680129  0.15155741 -0.15894766  0.00058896]\n",
            "For kappa = 10\n",
            "Optimal weights w_rob: [0.12318984 0.04521031 0.13731811 0.69428174]\n",
            "The difference with the minimum variance portfolio is: [ 0.00093948  0.01651777 -0.02162955  0.0041723 ]\n",
            "For kappa = 100\n",
            "Optimal weights w_rob: [0.12229952 0.03039619 0.15681987 0.69048442]\n",
            "The difference with the minimum variance portfolio is: [ 4.91566398e-05  1.70365148e-03 -2.12779090e-03  3.74982784e-04]\n",
            "For kappa = 1000\n",
            "Optimal weights w_rob: [0.12225642 0.02886221 0.15873248 0.6901489 ]\n",
            "The difference with the minimum variance portfolio is: [ 6.05530341e-06  1.69668124e-04 -2.15179033e-04  3.94556060e-05]\n",
            "For kappa = 10000\n",
            "Optimal weights w_rob: [0.12225093 0.02870956 0.1589262  0.69011331]\n",
            "The difference with the minimum variance portfolio is: [ 5.72760266e-07  1.70221328e-05 -2.14611549e-05  3.86626187e-06]\n"
          ]
        }
      ]
    },
    {
      "cell_type": "markdown",
      "source": [
        "We can see that as kappa tends to $+\\infty$, the difference between w_rob and w_MVO tends to 0."
      ],
      "metadata": {
        "id": "raWMIZvxKpi-"
      }
    },
    {
      "cell_type": "markdown",
      "source": [
        "#### Exercise 3 : Sensitivity of Markowitz"
      ],
      "metadata": {
        "id": "0NifUBQ8MAPn"
      }
    },
    {
      "cell_type": "markdown",
      "source": [
        "Let's plot the evolution of the weights of the portfolio for the US yield ranging from -2% to 7.5% with a step of 0.1% by using Markowitz."
      ],
      "metadata": {
        "id": "9yy7vtWBQkdo"
      }
    },
    {
      "cell_type": "code",
      "source": [
        "import matplotlib.pyplot as plt\n",
        "import pandas as pd\n",
        "# How to do a np.linspace avec un step de 0.1 ?\n",
        "mu_USA = np.linspace(-0.02,0.075,55) # 55 is to get a space of 0.001\n",
        "mu_portfolio = []\n",
        "for USA in mu_USA:\n",
        "  mu = np.array([USA, 0.0706, 0.0038, 0.0041])\n",
        "\n",
        "  w = cp.Variable(n)\n",
        "\n",
        "  # Define the objective function: maximize returns\n",
        "  objective = cp.Maximize(mu.T @ w)\n",
        "\n",
        "  # Define the constraints\n",
        "  constraints = [\n",
        "      w >= 0, # Positive constraint\n",
        "      cp.sum(w) == 1 # Full investment constraint\n",
        "  ]\n",
        "\n",
        "  # Define and solve the problem\n",
        "  prob = cp.Problem(objective, constraints)\n",
        "  result = prob.solve()\n",
        "\n",
        "  # Output the results\n",
        "  mu_portfolio.append(w.value)\n",
        "\n",
        "mu_portfolio_df = pd.DataFrame(mu_portfolio)\n",
        "names = ['Equity USA', 'Equity EMU', 'Bond USD IG Corp.', 'Bond EUR IG Corp']\n",
        "color = ['r', 'b', 'g', 'm']\n",
        "fig, ax = plt.subplots(2,2, figsize=(10,10))\n",
        "for i in range(n):\n",
        "  row = i // 2\n",
        "  col = i % 2\n",
        "  ax[row,col].plot(mu_USA, mu_portfolio_df[i], marker='o', linestyle='-', color = color[i], markersize=4, label=names[i])\n",
        "  ax[row, col].set_xlabel('Weight of the US yield in the portfolio')\n",
        "  ax[row, col].set_ylabel('Weights of the portfolio')\n",
        "  ax[row, col].set_title(names[i])\n",
        "  ax[row, col].grid(True)\n",
        "  ax[row, col].legend()\n",
        "  ax[row,col].set_ylim(0,1)\n",
        "plt.tight_layout()\n",
        "plt.show()"
      ],
      "metadata": {
        "colab": {
          "base_uri": "https://localhost:8080/",
          "height": 1000
        },
        "id": "_bhzEQ0EL_11",
        "outputId": "d1c6902f-77cd-49ea-943c-a77955aaa35c"
      },
      "execution_count": null,
      "outputs": [
        {
          "output_type": "display_data",
          "data": {
            "text/plain": [
              "<Figure size 1000x1000 with 4 Axes>"
            ],
            "image/png": "[encoded data removed]"
          },
          "metadata": {}
        }
      ]
    },
    {
      "cell_type": "code",
      "source": [
        "mu_portfolio_rob = []\n",
        "kappa = 0.25\n",
        "for USA in mu_USA:\n",
        "  mu = np.array([USA, 0.0706, 0.0038, 0.0041])\n",
        "\n",
        "  def objective_function(w):\n",
        "    return -(mu.T @ w - kappa * np.sqrt(w.T @ Omega @ w) - lamb/2 * w.T @ Omega @ w)\n",
        "\n",
        "  def constraint_sum_to_one(w):\n",
        "      return np.sum(w) - 1\n",
        "\n",
        "  def constraint_non_negative(w):\n",
        "      return w\n",
        "\n",
        "  # Initial guess for weights (e.g., equally weighted)\n",
        "  w0 = np.ones(n) / n\n",
        "\n",
        "  # Constraints definition for scipy.optimize.minimize\n",
        "  constraints = ({'type': 'eq', 'fun': constraint_sum_to_one},\n",
        "                  {'type': 'ineq', 'fun': constraint_non_negative})\n",
        "\n",
        "  # Bounds for weights (0 to 1, inclusive)\n",
        "  bounds = [(0, 1) for _ in range(n)]\n",
        "\n",
        "  # Optimization\n",
        "  result = minimize(objective_function, w0, method='SLSQP', bounds=bounds, constraints=constraints)\n",
        "\n",
        "  if result.success:\n",
        "      w_rob = result.x\n",
        "      mu_portfolio_rob.append(w_rob)\n",
        "\n",
        "mu_portfolio_rob_df = pd.DataFrame(mu_portfolio_rob)\n",
        "names = ['Equity USA', 'Equity EMU', 'Bond USD IG Corp.', 'Bond EUR IG Corp']\n",
        "color = ['r', 'b', 'g', 'm']\n",
        "fig, ax = plt.subplots(2,2, figsize=(10,10))\n",
        "for i in range(n):\n",
        "  row = i // 2\n",
        "  col = i % 2\n",
        "  ax[row,col].plot(mu_USA, mu_portfolio_rob_df[i], marker='o', linestyle='-', color = color[i], markersize=4, label=names[i])\n",
        "  ax[row, col].set_xlabel('Weight of the US yield in the portfolio')\n",
        "  ax[row, col].set_ylabel('Weights of the portfolio')\n",
        "  ax[row, col].set_title(names[i])\n",
        "  ax[row, col].grid(True)\n",
        "  ax[row, col].legend()\n",
        "  ax[row,col].set_ylim(0,1)\n",
        "plt.tight_layout()\n",
        "plt.show()"
      ],
      "metadata": {
        "colab": {
          "base_uri": "https://localhost:8080/",
          "height": 1000
        },
        "id": "OXqmhZzQnPn8",
        "outputId": "678ffad7-d5c6-4591-d7f9-84f24bc3fed8"
      },
      "execution_count": null,
      "outputs": [
        {
          "output_type": "display_data",
          "data": {
            "text/plain": [
              "<Figure size 1000x1000 with 4 Axes>"
            ],
            "image/png": "[encoded data removed]"
          },
          "metadata": {}
        }
      ]
    },
    {
      "cell_type": "markdown",
      "source": [
        "The robust optimization has a better reaction to perturbations on the US yields than the Markowitz one."
      ],
      "metadata": {
        "id": "7eWyMTpFsAPq"
      }
    },
    {
      "cell_type": "markdown",
      "source": [
        "#### Exercise 4 : $\\Omega$"
      ],
      "metadata": {
        "id": "nmiDyfkwtHPh"
      }
    },
    {
      "cell_type": "markdown",
      "source": [
        "First with $\\Omega = diag(\\Sigma)$"
      ],
      "metadata": {
        "id": "QDE3ycptuBwk"
      }
    },
    {
      "cell_type": "code",
      "source": [
        "# Let's define the parameters :\n",
        "mu = np.array([0.0548, 0.0706, 0.0038, 0.0041])\n",
        "lamb = 2\n",
        "kappa = 0.25\n",
        "sigma = np.array([0.143, 0.164, 0.083, 0.07])\n",
        "rho = np.array([[1, 0.821, 0.285, 0.06],\n",
        "               [0.821,1,0.344,0.017],\n",
        "               [0.285, 0.344, 1, 0.589],\n",
        "               [0.06,0.017,0.589,1]])\n",
        "D = np.diag(sigma)\n",
        "Omega = np.diag(np.diag(D @ rho @ D))"
      ],
      "metadata": {
        "id": "S27GujgttLEk"
      },
      "execution_count": null,
      "outputs": []
    },
    {
      "cell_type": "code",
      "source": [
        "def objective_function(w):\n",
        "    return -(mu.T @ w - kappa * np.sqrt(w.T @ Omega @ w) - lamb/2 * w.T @ Sigma @ w)\n",
        "\n",
        "def constraint_sum_to_one(w):\n",
        "    return np.sum(w) - 1\n",
        "\n",
        "def constraint_non_negative(w):\n",
        "    return w\n",
        "\n",
        "# Initial guess for weights (e.g., equally weighted)\n",
        "w0 = np.ones(n) / n\n",
        "\n",
        "# Constraints definition for scipy.optimize.minimize\n",
        "constraints = ({'type': 'eq', 'fun': constraint_sum_to_one},\n",
        "                {'type': 'ineq', 'fun': constraint_non_negative})\n",
        "\n",
        "# Bounds for weights (0 to 1, inclusive)\n",
        "bounds = [(0, 1) for _ in range(n)]\n",
        "\n",
        "# Optimization\n",
        "result = minimize(objective_function, w0, method='SLSQP', bounds=bounds, constraints=constraints)\n",
        "\n",
        "# Print results\n",
        "if result.success:\n",
        "    w_rob = result.x\n",
        "    print(\"Optimal weights w_rob:\", np.round(w_rob,2))\n",
        "    print(\"Maximum expected return:\", np.round(mu.T @ w_rob * 100, 2), \"%\")\n",
        "    print(\"Portfolio variance:\", np.round(w_rob.T @ Omega @ w_rob,2))\n",
        "else:\n",
        "    print(\"Optimization failed:\", result.message)"
      ],
      "metadata": {
        "colab": {
          "base_uri": "https://localhost:8080/"
        },
        "id": "kaG5zfnFuFad",
        "outputId": "39dc75a9-c6bd-4cc9-dd12-b1d82f5e8c48"
      },
      "execution_count": null,
      "outputs": [
        {
          "output_type": "stream",
          "name": "stdout",
          "text": [
            "Optimal weights w_rob: [0.4  0.44 0.   0.16]\n",
            "Maximum expected return: 5.34 %\n",
            "Portfolio variance: 0.01\n"
          ]
        }
      ]
    },
    {
      "cell_type": "code",
      "source": [
        "# For the minimum variance portfolio with the matrix Omega updated :\n",
        "import cvxpy as cp\n",
        "w = cp.Variable(n)\n",
        "objective = cp.Minimize(w.T @ Omega @ w)\n",
        "\n",
        "one = np.ones(n)\n",
        "\n",
        "# Define the constraints\n",
        "constraints = [\n",
        "    one.T @ w == 1\n",
        "]\n",
        "\n",
        "# Define and solve the problem\n",
        "prob = cp.Problem(objective, constraints)\n",
        "result = prob.solve()\n",
        "\n",
        "# Output the results\n",
        "print(\"Optimal weights w_MVO:\", w.value)\n",
        "print(\"Minimum variance:\", result)"
      ],
      "metadata": {
        "colab": {
          "base_uri": "https://localhost:8080/"
        },
        "id": "h5uQbkf4xYi8",
        "outputId": "f0ea7a80-cd90-4c2c-fcca-5d6662b0229b"
      },
      "execution_count": null,
      "outputs": [
        {
          "output_type": "stream",
          "name": "stdout",
          "text": [
            "Optimal weights w_MVO: [0.11233532 0.08540842 0.33345115 0.4688051 ]\n",
            "Minimum variance: 0.0022971449928335646\n"
          ]
        }
      ]
    },
    {
      "cell_type": "code",
      "source": [
        "kappa = [1,10,100,1000,10000]\n",
        "for k in kappa:\n",
        "  def objective_function(w):\n",
        "      return -(mu.T @ w - k * np.sqrt(w.T @ Omega @ w) - lamb/2 * w.T @ Sigma @ w)\n",
        "\n",
        "  def constraint_sum_to_one(w):\n",
        "      return np.sum(w) - 1\n",
        "\n",
        "  def constraint_non_negative(w):\n",
        "      return w\n",
        "\n",
        "  # Initial guess for weights (e.g., equally weighted)\n",
        "  w0 = np.ones(n) / n\n",
        "\n",
        "  # Constraints definition for scipy.optimize.minimize\n",
        "  constraints = ({'type': 'eq', 'fun': constraint_sum_to_one},\n",
        "                  {'type': 'ineq', 'fun': constraint_non_negative})\n",
        "\n",
        "  # Bounds for weights (0 to 1, inclusive)\n",
        "  bounds = [(0, 1) for _ in range(n)]\n",
        "\n",
        "  # Optimization\n",
        "  result = minimize(objective_function, w0, method='SLSQP', bounds=bounds, constraints=constraints)\n",
        "\n",
        "  # Print results\n",
        "  if result.success:\n",
        "      w_rob = result.x\n",
        "      print(\"For kappa =\",k)\n",
        "      print(\"Optimal weights w_rob:\", w_rob)\n",
        "      print(\"The difference with the minimum variance portfolio is:\",w_rob-[0.11233532, 0.08540842, 0.33345115,  0.4688051])\n",
        "  else:\n",
        "      print(\"Optimization failed:\", result.message)"
      ],
      "metadata": {
        "colab": {
          "base_uri": "https://localhost:8080/"
        },
        "id": "bip1JFxzu3zG",
        "outputId": "8c3595fb-66c7-4e02-dd4d-ada77562dd05"
      },
      "execution_count": null,
      "outputs": [
        {
          "output_type": "stream",
          "name": "stdout",
          "text": [
            "For kappa = 1\n",
            "Optimal weights w_rob: [0.19293855 0.17299092 0.24758347 0.38648706]\n",
            "The difference with the minimum variance portfolio is: [ 0.08060323  0.0875825  -0.08586768 -0.08231804]\n",
            "For kappa = 10\n",
            "Optimal weights w_rob: [0.12101059 0.09451989 0.3249464  0.45952312]\n",
            "The difference with the minimum variance portfolio is: [ 0.00867527  0.00911147 -0.00850475 -0.00928198]\n",
            "For kappa = 100\n",
            "Optimal weights w_rob: [0.11320649 0.08633057 0.33260039 0.46786255]\n",
            "The difference with the minimum variance portfolio is: [ 0.00087117  0.00092215 -0.00085076 -0.00094255]\n",
            "For kappa = 1000\n",
            "Optimal weights w_rob: [0.11241514 0.08549744 0.33340669 0.46868072]\n",
            "The difference with the minimum variance portfolio is: [ 7.98232699e-05  8.90243757e-05 -4.44567092e-05 -1.24380936e-04]\n",
            "For kappa = 10000\n",
            "Optimal weights w_rob: [0.1123421  0.08541533 0.33343978 0.46880278]\n",
            "The difference with the minimum variance portfolio is: [ 6.78496393e-06  6.91238760e-06 -1.13663389e-05 -2.32101263e-06]\n"
          ]
        }
      ]
    },
    {
      "cell_type": "markdown",
      "source": [
        "Therefore, the robust optimization porfolio converges to the minimum variance portfolio associated, with the relevant $\\Omega$ matrix associated, when $\\kappa \\rightarrow +\\infty$."
      ],
      "metadata": {
        "id": "eo3W15_MxvhR"
      }
    },
    {
      "cell_type": "markdown",
      "source": [
        "Next, let's consider $\\Omega = \\mathbb{I}$"
      ],
      "metadata": {
        "id": "nrYSfjxivV6k"
      }
    },
    {
      "cell_type": "code",
      "source": [
        "# Let's define the parameters :\n",
        "mu = np.array([0.0548, 0.0706, 0.0038, 0.0041])\n",
        "lamb = 2\n",
        "kappa = 0.25\n",
        "sigma = np.array([0.143, 0.164, 0.083, 0.07])\n",
        "rho = np.array([[1, 0.821, 0.285, 0.06],\n",
        "               [0.821,1,0.344,0.017],\n",
        "               [0.285, 0.344, 1, 0.589],\n",
        "               [0.06,0.017,0.589,1]])\n",
        "D = np.diag(sigma)\n",
        "Omega = np.eye(n)"
      ],
      "metadata": {
        "id": "6P8i-HO_u3ov"
      },
      "execution_count": null,
      "outputs": []
    },
    {
      "cell_type": "code",
      "source": [
        "def objective_function(w):\n",
        "    return -(mu.T @ w - kappa * np.sqrt(w.T @ Omega @ w) - lamb/2 * w.T @ Sigma @ w)\n",
        "\n",
        "def constraint_sum_to_one(w):\n",
        "    return np.sum(w) - 1\n",
        "\n",
        "def constraint_non_negative(w):\n",
        "    return w\n",
        "\n",
        "# Initial guess for weights (e.g., equally weighted)\n",
        "w0 = np.ones(n) / n\n",
        "\n",
        "# Constraints definition for scipy.optimize.minimize\n",
        "constraints = ({'type': 'eq', 'fun': constraint_sum_to_one},\n",
        "                {'type': 'ineq', 'fun': constraint_non_negative})\n",
        "\n",
        "# Bounds for weights (0 to 1, inclusive)\n",
        "bounds = [(0, 1) for _ in range(n)]\n",
        "\n",
        "# Optimization\n",
        "result = minimize(objective_function, w0, method='SLSQP', bounds=bounds, constraints=constraints)\n",
        "\n",
        "# Print results\n",
        "if result.success:\n",
        "    w_rob = result.x\n",
        "    print(\"Optimal weights w_rob:\", np.round(w_rob,2))\n",
        "    print(\"Maximum expected return:\", np.round(mu.T @ w_rob * 100, 2), \"%\")\n",
        "    print(\"Portfolio variance:\", np.round(w_rob.T @ Omega @ w_rob,2))\n",
        "else:\n",
        "    print(\"Optimization failed:\", result.message)"
      ],
      "metadata": {
        "colab": {
          "base_uri": "https://localhost:8080/"
        },
        "id": "S9NY9PR-vnin",
        "outputId": "1f652dbc-8dc3-42e4-82f3-5f24ca75eb6d"
      },
      "execution_count": null,
      "outputs": [
        {
          "output_type": "stream",
          "name": "stdout",
          "text": [
            "Optimal weights w_rob: [0.28 0.3  0.21 0.22]\n",
            "Maximum expected return: 3.81 %\n",
            "Portfolio variance: 0.26\n"
          ]
        }
      ]
    },
    {
      "cell_type": "code",
      "source": [
        "kappa = [1,10,100,1000,10000]\n",
        "for k in kappa:\n",
        "  def objective_function(w):\n",
        "      return -(mu.T @ w - k * np.sqrt(w.T @ Omega @ w) - lamb/2 * w.T @ Sigma @ w)\n",
        "\n",
        "  def constraint_sum_to_one(w):\n",
        "      return np.sum(w) - 1\n",
        "\n",
        "  def constraint_non_negative(w):\n",
        "      return w\n",
        "\n",
        "  # Initial guess for weights (e.g., equally weighted)\n",
        "  w0 = np.ones(n) / n\n",
        "\n",
        "  # Constraints definition for scipy.optimize.minimize\n",
        "  constraints = ({'type': 'eq', 'fun': constraint_sum_to_one},\n",
        "                  {'type': 'ineq', 'fun': constraint_non_negative})\n",
        "\n",
        "  # Bounds for weights (0 to 1, inclusive)\n",
        "  bounds = [(0, 1) for _ in range(n)]\n",
        "\n",
        "  # Optimization\n",
        "  result = minimize(objective_function, w0, method='SLSQP', bounds=bounds, constraints=constraints)\n",
        "\n",
        "  # Print results\n",
        "  if result.success:\n",
        "      w_rob = result.x\n",
        "      print(\"For kappa =\",k)\n",
        "      print(\"Optimal weights w_rob:\", w_rob)\n",
        "      print(\"The difference with the minimum variance portfolio is:\",w_rob-[0.25, 0.25, 0.25, 0.25])\n",
        "  else:\n",
        "      print(\"Optimization failed:\", result.message)"
      ],
      "metadata": {
        "colab": {
          "base_uri": "https://localhost:8080/"
        },
        "id": "U4n8d0VOvxwb",
        "outputId": "725087db-d924-4a25-fae1-388173801632"
      },
      "execution_count": null,
      "outputs": [
        {
          "output_type": "stream",
          "name": "stdout",
          "text": [
            "For kappa = 1\n",
            "Optimal weights w_rob: [0.2573115  0.26326027 0.23850536 0.24092287]\n",
            "The difference with the minimum variance portfolio is: [ 0.0073115   0.01326027 -0.01149464 -0.00907713]\n",
            "For kappa = 10\n",
            "Optimal weights w_rob: [0.25074382 0.25134901 0.24883062 0.24907656]\n",
            "The difference with the minimum variance portfolio is: [ 0.00074382  0.00134901 -0.00116938 -0.00092344]\n",
            "For kappa = 100\n",
            "Optimal weights w_rob: [0.25007452 0.25013516 0.24988284 0.24990748]\n",
            "The difference with the minimum variance portfolio is: [ 7.45231136e-05  1.35157057e-04 -1.17161383e-04 -9.25187874e-05]\n",
            "For kappa = 1000\n",
            "Optimal weights w_rob: [0.25000745 0.25001352 0.24998828 0.24999075]\n",
            "The difference with the minimum variance portfolio is: [ 7.45450011e-06  1.35176588e-05 -1.17191188e-05 -9.25304011e-06]\n",
            "For kappa = 10000\n",
            "Optimal weights w_rob: [0.25000074 0.25000135 0.24999883 0.24999908]\n",
            "The difference with the minimum variance portfolio is: [ 7.44801541e-07  1.35224214e-06 -1.17214669e-06 -9.24896996e-07]\n"
          ]
        }
      ]
    },
    {
      "cell_type": "markdown",
      "source": [
        "So the portfolio tends to the equally weighted portfolio when $\\kappa \\rightarrow +\\infty$"
      ],
      "metadata": {
        "id": "ndL5JvXYv6NF"
      }
    },
    {
      "cell_type": "markdown",
      "source": [
        "If the variance-covariance matrix $\\Sigma$ is badly estimated, the choice $\\Omega = diag(\\Sigma)$ is better as it offers a great trade-off between robustness and performance."
      ],
      "metadata": {
        "id": "wKoRSaiqyNws"
      }
    }
  ]
}